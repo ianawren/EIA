{
 "cells": [
  {
   "cell_type": "code",
   "execution_count": 51,
   "metadata": {},
   "outputs": [],
   "source": [
    "from __future__ import print_function\n",
    "from ipywidgets import interact, interactive, fixed, interact_manual\n",
    "import ipywidgets as widgets\n",
    "\n",
    "from IPython.display import clear_output\n",
    "from IPython.display import display\n",
    "\n",
    "import pandas as pd\n",
    "import os\n",
    "\n",
    "import plotly.graph_objs as go\n",
    "import plotly.express as px\n",
    "\n",
    "\n",
    "import warnings\n",
    "warnings.filterwarnings('ignore')"
   ]
  },
  {
   "cell_type": "code",
   "execution_count": 46,
   "metadata": {},
   "outputs": [],
   "source": [
    "fn = \"https://www.eia.gov/electricity/data/eia860m/xls/october_generator2019.xlsx\"\n",
    "desired_columns = ['Entity ID', 'Entity Name', 'Plant ID', 'Plant Name', 'Sector',\n",
    "       'Plant State', 'Generator ID', 'Unit Code', 'Nameplate Capacity (MW)',\n",
    "       'Net Summer Capacity (MW)', 'Net Winter Capacity (MW)', 'Technology',\n",
    "       'Energy Source Code', 'Prime Mover Code', 'Operating Month',\n",
    "       'Operating Year', 'Status', 'County', 'Latitude', 'Longitude',\n",
    "        'Balancing Authority Code']"
   ]
  },
  {
   "cell_type": "code",
   "execution_count": 47,
   "metadata": {},
   "outputs": [],
   "source": [
    "ogDF = pd.read_excel(fn, skipfooter=1, header=1, usecols=desired_columns)"
   ]
  },
  {
   "cell_type": "code",
   "execution_count": 48,
   "metadata": {},
   "outputs": [
    {
     "data": {
      "text/plain": [
       "Index(['Entity ID', 'Entity Name', 'Plant ID', 'Plant Name', 'Sector',\n",
       "       'Plant State', 'Generator ID', 'Unit Code', 'Nameplate Capacity (MW)',\n",
       "       'Net Summer Capacity (MW)', 'Net Winter Capacity (MW)', 'Technology',\n",
       "       'Energy Source Code', 'Prime Mover Code', 'Operating Month',\n",
       "       'Operating Year', 'Status', 'County', 'Latitude', 'Longitude',\n",
       "       'Balancing Authority Code'],\n",
       "      dtype='object')"
      ]
     },
     "execution_count": 48,
     "metadata": {},
     "output_type": "execute_result"
    }
   ],
   "source": [
    "ogDF.columns"
   ]
  },
  {
   "cell_type": "code",
   "execution_count": 50,
   "metadata": {
    "scrolled": false
   },
   "outputs": [
    {
     "data": {
      "application/vnd.jupyter.widget-view+json": {
       "model_id": "bbada0240e1a483788b45e7cb0a3af56",
       "version_major": 2,
       "version_minor": 0
      },
      "text/plain": [
       "VBox(children=(SelectMultiple(description='BAA Filter: ', options=('AEC', 'AECI', 'AVA', 'AVRN', 'AZPS', 'BANC…"
      ]
     },
     "metadata": {},
     "output_type": "display_data"
    }
   ],
   "source": [
    "colorSelector = widgets.Select(options=ogDF.columns, description=\"Color Code: \")\n",
    "sizeSelector = widgets.Select(options=ogDF._get_numeric_data().columns, description=\"Size Code: \")\n",
    "baas = list(ogDF[\"Balancing Authority Code\"].unique().astype(str))\n",
    "baaSelector = widgets.SelectMultiple(options=sorted(list(baas))[:-1], description=\"BAA Filter: \")\n",
    "\n",
    "\n",
    "plot_button = widgets.Button(description=\"Plot that data!\")\n",
    "\n",
    "output = widgets.Output()\n",
    "output2 = widgets.Output()\n",
    "\n",
    "clickCounter = 0\n",
    "\n",
    "@plot_button.on_click\n",
    "def plot_button_clicked(a):\n",
    "    \n",
    "    \n",
    "    with output:\n",
    "        clear_output()\n",
    "        prep = ogDF[ogDF[\"Balancing Authority Code\"].isin(list(baaSelector.value))]\n",
    "        prep[\"Tooltip\"] = colorSelector.value + \": \" + prep[colorSelector.value]\n",
    "                \n",
    "        f = go.FigureWidget(px.scatter_geo(prep, text=\"Entity Name\", hover_name=\"Plant Name\",locationmode=\"USA-states\",lat=\"Latitude\", lon=\"Longitude\", color=colorSelector.value, size=sizeSelector.value))\n",
    "        f.update_layout(\n",
    "            showlegend=True,\n",
    "            geo = dict(\n",
    "                scope = 'usa',\n",
    "                landcolor = \"rgb(217, 217, 217)\"))\n",
    "        display(f)\n",
    "widgets.VBox([baaSelector, widgets.HBox([colorSelector, sizeSelector, plot_button]), output])"
   ]
  },
  {
   "cell_type": "code",
   "execution_count": null,
   "metadata": {},
   "outputs": [],
   "source": []
  }
 ],
 "metadata": {
  "kernelspec": {
   "display_name": "Python 3",
   "language": "python",
   "name": "python3"
  },
  "language_info": {
   "codemirror_mode": {
    "name": "ipython",
    "version": 3
   },
   "file_extension": ".py",
   "mimetype": "text/x-python",
   "name": "python",
   "nbconvert_exporter": "python",
   "pygments_lexer": "ipython3",
   "version": "3.6.8"
  }
 },
 "nbformat": 4,
 "nbformat_minor": 2
}
